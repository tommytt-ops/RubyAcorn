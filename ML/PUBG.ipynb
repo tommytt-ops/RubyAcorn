{
 "cells": [
  {
   "cell_type": "markdown",
   "metadata": {},
   "source": [
    "## NB very simple model for testing"
   ]
  },
  {
   "cell_type": "code",
   "execution_count": 18,
   "metadata": {},
   "outputs": [
    {
     "name": "stdout",
     "output_type": "stream",
     "text": [
      "Active code page: 1252\n",
      "Requirement already satisfied: xgboost in c:\\users\\tommy\\anaconda3\\lib\\site-packages (2.0.0)\n",
      "Requirement already satisfied: numpy in c:\\users\\tommy\\anaconda3\\lib\\site-packages (from xgboost) (1.24.3)\n",
      "Requirement already satisfied: scipy in c:\\users\\tommy\\anaconda3\\lib\\site-packages (from xgboost) (1.10.1)\n",
      "Note: you may need to restart the kernel to use updated packages.\n"
     ]
    }
   ],
   "source": [
    "%pip install xgboost"
   ]
  },
  {
   "cell_type": "code",
   "execution_count": 19,
   "metadata": {},
   "outputs": [],
   "source": [
    "%matplotlib inline\n",
    "import numpy as np, pandas as pd, seaborn as sns, matplotlib.pyplot as plt\n",
    "from sklearn.model_selection import TimeSeriesSplit\n",
    "import joblib\n",
    "from pathlib import Path\n",
    "from sklearn.model_selection import train_test_split\n",
    "from sklearn.ensemble import RandomForestRegressor\n",
    "from sklearn.linear_model import LinearRegression\n",
    "import xgboost as xgb\n",
    "from sklearn.preprocessing import OneHotEncoder\n",
    "from sklearn.metrics import mean_squared_error\n"
   ]
  },
  {
   "cell_type": "code",
   "execution_count": 20,
   "metadata": {},
   "outputs": [],
   "source": [
    "data = pd.read_csv('final.csv')"
   ]
  },
  {
   "cell_type": "code",
   "execution_count": 21,
   "metadata": {},
   "outputs": [
    {
     "data": {
      "text/html": [
       "<div>\n",
       "<style scoped>\n",
       "    .dataframe tbody tr th:only-of-type {\n",
       "        vertical-align: middle;\n",
       "    }\n",
       "\n",
       "    .dataframe tbody tr th {\n",
       "        vertical-align: top;\n",
       "    }\n",
       "\n",
       "    .dataframe thead th {\n",
       "        text-align: right;\n",
       "    }\n",
       "</style>\n",
       "<table border=\"1\" class=\"dataframe\">\n",
       "  <thead>\n",
       "    <tr style=\"text-align: right;\">\n",
       "      <th></th>\n",
       "      <th>Date</th>\n",
       "      <th>Time</th>\n",
       "      <th>Player_count</th>\n",
       "    </tr>\n",
       "  </thead>\n",
       "  <tbody>\n",
       "    <tr>\n",
       "      <th>0</th>\n",
       "      <td>9/24/2023</td>\n",
       "      <td>0:00</td>\n",
       "      <td>2711248</td>\n",
       "    </tr>\n",
       "    <tr>\n",
       "      <th>1</th>\n",
       "      <td>9/24/2023</td>\n",
       "      <td>0:05</td>\n",
       "      <td>2726267</td>\n",
       "    </tr>\n",
       "    <tr>\n",
       "      <th>2</th>\n",
       "      <td>9/24/2023</td>\n",
       "      <td>0:10</td>\n",
       "      <td>2712687</td>\n",
       "    </tr>\n",
       "    <tr>\n",
       "      <th>3</th>\n",
       "      <td>9/24/2023</td>\n",
       "      <td>0:15</td>\n",
       "      <td>2745816</td>\n",
       "    </tr>\n",
       "    <tr>\n",
       "      <th>4</th>\n",
       "      <td>9/24/2023</td>\n",
       "      <td>0:20</td>\n",
       "      <td>2756843</td>\n",
       "    </tr>\n",
       "    <tr>\n",
       "      <th>5</th>\n",
       "      <td>9/24/2023</td>\n",
       "      <td>0:25</td>\n",
       "      <td>2768107</td>\n",
       "    </tr>\n",
       "    <tr>\n",
       "      <th>6</th>\n",
       "      <td>9/24/2023</td>\n",
       "      <td>0:30</td>\n",
       "      <td>2777797</td>\n",
       "    </tr>\n",
       "    <tr>\n",
       "      <th>7</th>\n",
       "      <td>9/24/2023</td>\n",
       "      <td>0:35</td>\n",
       "      <td>2786147</td>\n",
       "    </tr>\n",
       "  </tbody>\n",
       "</table>\n",
       "</div>"
      ],
      "text/plain": [
       "        Date  Time  Player_count\n",
       "0  9/24/2023  0:00       2711248\n",
       "1  9/24/2023  0:05       2726267\n",
       "2  9/24/2023  0:10       2712687\n",
       "3  9/24/2023  0:15       2745816\n",
       "4  9/24/2023  0:20       2756843\n",
       "5  9/24/2023  0:25       2768107\n",
       "6  9/24/2023  0:30       2777797\n",
       "7  9/24/2023  0:35       2786147"
      ]
     },
     "execution_count": 21,
     "metadata": {},
     "output_type": "execute_result"
    }
   ],
   "source": [
    "data.head(8)"
   ]
  },
  {
   "cell_type": "code",
   "execution_count": 22,
   "metadata": {},
   "outputs": [
    {
     "name": "stdout",
     "output_type": "stream",
     "text": [
      "<class 'pandas.core.frame.DataFrame'>\n",
      "RangeIndex: 3755 entries, 0 to 3754\n",
      "Data columns (total 3 columns):\n",
      " #   Column        Non-Null Count  Dtype \n",
      "---  ------        --------------  ----- \n",
      " 0   Date          3755 non-null   object\n",
      " 1   Time          3755 non-null   object\n",
      " 2   Player_count  3755 non-null   int64 \n",
      "dtypes: int64(1), object(2)\n",
      "memory usage: 88.1+ KB\n"
     ]
    }
   ],
   "source": [
    "data.info()"
   ]
  },
  {
   "cell_type": "code",
   "execution_count": 23,
   "metadata": {},
   "outputs": [],
   "source": [
    "data = data.drop(data[(data[\"Player_count\"]== 0)].index)"
   ]
  },
  {
   "cell_type": "code",
   "execution_count": 24,
   "metadata": {},
   "outputs": [],
   "source": [
    "data[\"New_date\"] = pd.to_datetime(data['Date'], format='%m/%d/%Y')"
   ]
  },
  {
   "cell_type": "code",
   "execution_count": 25,
   "metadata": {},
   "outputs": [
    {
     "name": "stdout",
     "output_type": "stream",
     "text": [
      "<class 'pandas.core.frame.DataFrame'>\n",
      "Int64Index: 3606 entries, 0 to 3754\n",
      "Data columns (total 4 columns):\n",
      " #   Column        Non-Null Count  Dtype         \n",
      "---  ------        --------------  -----         \n",
      " 0   Date          3606 non-null   object        \n",
      " 1   Time          3606 non-null   object        \n",
      " 2   Player_count  3606 non-null   int64         \n",
      " 3   New_date      3606 non-null   datetime64[ns]\n",
      "dtypes: datetime64[ns](1), int64(1), object(2)\n",
      "memory usage: 140.9+ KB\n"
     ]
    }
   ],
   "source": [
    "data.info()"
   ]
  },
  {
   "cell_type": "code",
   "execution_count": 26,
   "metadata": {},
   "outputs": [
    {
     "name": "stdout",
     "output_type": "stream",
     "text": [
      "<class 'pandas.core.frame.DataFrame'>\n",
      "Int64Index: 3606 entries, 0 to 3754\n",
      "Data columns (total 4 columns):\n",
      " #   Column        Non-Null Count  Dtype         \n",
      "---  ------        --------------  -----         \n",
      " 0   Date          3606 non-null   object        \n",
      " 1   Time          3606 non-null   object        \n",
      " 2   Player_count  3606 non-null   int64         \n",
      " 3   New_date      3606 non-null   datetime64[ns]\n",
      "dtypes: datetime64[ns](1), int64(1), object(2)\n",
      "memory usage: 140.9+ KB\n"
     ]
    }
   ],
   "source": [
    "data.info()"
   ]
  },
  {
   "cell_type": "markdown",
   "metadata": {},
   "source": [
    "### Feature engineering (transform data to be used for the machine learning algo) "
   ]
  },
  {
   "cell_type": "code",
   "execution_count": 27,
   "metadata": {},
   "outputs": [],
   "source": [
    "\n",
    "data[\"New_time\"] = pd.to_datetime(data['Time'], format='%H:%M')"
   ]
  },
  {
   "cell_type": "code",
   "execution_count": 28,
   "metadata": {},
   "outputs": [],
   "source": [
    "data[\"year\"] = data[\"New_date\"].dt.year\n",
    "data[\"month\"] = data[\"New_date\"].dt.month\n",
    "data[\"day\"] = data[\"New_date\"].dt.day\n",
    "data[\"hour\"] = data[\"New_time\"].dt.hour\n",
    "data[\"min\"] = data[\"New_time\"].dt.minute"
   ]
  },
  {
   "cell_type": "code",
   "execution_count": 29,
   "metadata": {},
   "outputs": [],
   "source": [
    "data.drop(columns=[\"Date\",\"Time\",\"New_date\",\"New_time\"], inplace=True)"
   ]
  },
  {
   "cell_type": "code",
   "execution_count": 30,
   "metadata": {},
   "outputs": [
    {
     "name": "stdout",
     "output_type": "stream",
     "text": [
      "<class 'pandas.core.frame.DataFrame'>\n",
      "Int64Index: 3606 entries, 0 to 3754\n",
      "Data columns (total 6 columns):\n",
      " #   Column        Non-Null Count  Dtype\n",
      "---  ------        --------------  -----\n",
      " 0   Player_count  3606 non-null   int64\n",
      " 1   year          3606 non-null   int64\n",
      " 2   month         3606 non-null   int64\n",
      " 3   day           3606 non-null   int64\n",
      " 4   hour          3606 non-null   int64\n",
      " 5   min           3606 non-null   int64\n",
      "dtypes: int64(6)\n",
      "memory usage: 197.2 KB\n"
     ]
    }
   ],
   "source": [
    "data.info()"
   ]
  },
  {
   "cell_type": "code",
   "execution_count": 31,
   "metadata": {},
   "outputs": [
    {
     "data": {
      "text/html": [
       "<div>\n",
       "<style scoped>\n",
       "    .dataframe tbody tr th:only-of-type {\n",
       "        vertical-align: middle;\n",
       "    }\n",
       "\n",
       "    .dataframe tbody tr th {\n",
       "        vertical-align: top;\n",
       "    }\n",
       "\n",
       "    .dataframe thead th {\n",
       "        text-align: right;\n",
       "    }\n",
       "</style>\n",
       "<table border=\"1\" class=\"dataframe\">\n",
       "  <thead>\n",
       "    <tr style=\"text-align: right;\">\n",
       "      <th></th>\n",
       "      <th>Player_count</th>\n",
       "      <th>year</th>\n",
       "      <th>month</th>\n",
       "      <th>day</th>\n",
       "      <th>hour</th>\n",
       "      <th>min</th>\n",
       "    </tr>\n",
       "  </thead>\n",
       "  <tbody>\n",
       "    <tr>\n",
       "      <th>0</th>\n",
       "      <td>2711248</td>\n",
       "      <td>2023</td>\n",
       "      <td>9</td>\n",
       "      <td>24</td>\n",
       "      <td>0</td>\n",
       "      <td>0</td>\n",
       "    </tr>\n",
       "    <tr>\n",
       "      <th>1</th>\n",
       "      <td>2726267</td>\n",
       "      <td>2023</td>\n",
       "      <td>9</td>\n",
       "      <td>24</td>\n",
       "      <td>0</td>\n",
       "      <td>5</td>\n",
       "    </tr>\n",
       "    <tr>\n",
       "      <th>2</th>\n",
       "      <td>2712687</td>\n",
       "      <td>2023</td>\n",
       "      <td>9</td>\n",
       "      <td>24</td>\n",
       "      <td>0</td>\n",
       "      <td>10</td>\n",
       "    </tr>\n",
       "    <tr>\n",
       "      <th>3</th>\n",
       "      <td>2745816</td>\n",
       "      <td>2023</td>\n",
       "      <td>9</td>\n",
       "      <td>24</td>\n",
       "      <td>0</td>\n",
       "      <td>15</td>\n",
       "    </tr>\n",
       "    <tr>\n",
       "      <th>4</th>\n",
       "      <td>2756843</td>\n",
       "      <td>2023</td>\n",
       "      <td>9</td>\n",
       "      <td>24</td>\n",
       "      <td>0</td>\n",
       "      <td>20</td>\n",
       "    </tr>\n",
       "  </tbody>\n",
       "</table>\n",
       "</div>"
      ],
      "text/plain": [
       "   Player_count  year  month  day  hour  min\n",
       "0       2711248  2023      9   24     0    0\n",
       "1       2726267  2023      9   24     0    5\n",
       "2       2712687  2023      9   24     0   10\n",
       "3       2745816  2023      9   24     0   15\n",
       "4       2756843  2023      9   24     0   20"
      ]
     },
     "execution_count": 31,
     "metadata": {},
     "output_type": "execute_result"
    }
   ],
   "source": [
    "data.head()"
   ]
  },
  {
   "cell_type": "markdown",
   "metadata": {},
   "source": [
    "### One hot encoding"
   ]
  },
  {
   "cell_type": "markdown",
   "metadata": {},
   "source": [
    "### Preapering for training "
   ]
  },
  {
   "cell_type": "markdown",
   "metadata": {},
   "source": [
    "### Models and testing"
   ]
  },
  {
   "cell_type": "markdown",
   "metadata": {},
   "source": [
    "#### xgboost"
   ]
  },
  {
   "cell_type": "code",
   "execution_count": 32,
   "metadata": {},
   "outputs": [
    {
     "name": "stdout",
     "output_type": "stream",
     "text": [
      "[0]\tvalidation_0-rmse:1755891.00177\tvalidation_1-rmse:2523757.63771\n",
      "[100]\tvalidation_0-rmse:692442.83417\tvalidation_1-rmse:1188393.30562\n",
      "[200]\tvalidation_0-rmse:328761.13229\tvalidation_1-rmse:673221.07893\n",
      "[300]\tvalidation_0-rmse:212850.41783\tvalidation_1-rmse:394853.85739\n"
     ]
    },
    {
     "name": "stderr",
     "output_type": "stream",
     "text": [
      "c:\\Users\\Tommy\\anaconda3\\Lib\\site-packages\\xgboost\\core.py:160: UserWarning: [03:30:34] WARNING: C:\\buildkite-agent\\builds\\buildkite-windows-cpu-autoscaling-group-i-0cec3277c4d9d0165-1\\xgboost\\xgboost-ci-windows\\src\\objective\\regression_obj.cu:209: reg:linear is now deprecated in favor of reg:squarederror.\n",
      "  warnings.warn(smsg, UserWarning)\n"
     ]
    },
    {
     "name": "stdout",
     "output_type": "stream",
     "text": [
      "[400]\tvalidation_0-rmse:167324.73106\tvalidation_1-rmse:315610.68452\n"
     ]
    },
    {
     "name": "stdout",
     "output_type": "stream",
     "text": [
      "[500]\tvalidation_0-rmse:144080.32090\tvalidation_1-rmse:251400.59437\n",
      "[600]\tvalidation_0-rmse:128392.75038\tvalidation_1-rmse:202173.49539\n",
      "[700]\tvalidation_0-rmse:118013.85830\tvalidation_1-rmse:167056.83433\n",
      "[800]\tvalidation_0-rmse:110645.42035\tvalidation_1-rmse:138714.75588\n",
      "[900]\tvalidation_0-rmse:105461.34231\tvalidation_1-rmse:122013.44319\n",
      "[999]\tvalidation_0-rmse:101020.71212\tvalidation_1-rmse:108608.92195\n",
      "[0]\tvalidation_0-rmse:1759899.18610\tvalidation_1-rmse:2337510.96722\n",
      "[100]\tvalidation_0-rmse:694605.19080\tvalidation_1-rmse:977049.37694\n",
      "[200]\tvalidation_0-rmse:330646.36790\tvalidation_1-rmse:438950.55034\n",
      "[300]\tvalidation_0-rmse:214235.76404\tvalidation_1-rmse:142009.06173\n",
      "[400]\tvalidation_0-rmse:168163.85490\tvalidation_1-rmse:60049.54139\n"
     ]
    },
    {
     "name": "stderr",
     "output_type": "stream",
     "text": [
      "c:\\Users\\Tommy\\anaconda3\\Lib\\site-packages\\xgboost\\core.py:160: UserWarning: [03:30:34] WARNING: C:\\buildkite-agent\\builds\\buildkite-windows-cpu-autoscaling-group-i-0cec3277c4d9d0165-1\\xgboost\\xgboost-ci-windows\\src\\objective\\regression_obj.cu:209: reg:linear is now deprecated in favor of reg:squarederror.\n",
      "  warnings.warn(smsg, UserWarning)\n"
     ]
    },
    {
     "name": "stdout",
     "output_type": "stream",
     "text": [
      "[500]\tvalidation_0-rmse:145166.23025\tvalidation_1-rmse:37706.81729\n",
      "[524]\tvalidation_0-rmse:140769.40553\tvalidation_1-rmse:46562.62949\n",
      "[0]\tvalidation_0-rmse:1762750.28203\tvalidation_1-rmse:2560800.77309\n",
      "[100]\tvalidation_0-rmse:696044.89411\tvalidation_1-rmse:1150863.85478\n",
      "[200]\tvalidation_0-rmse:331065.91580\tvalidation_1-rmse:559952.99510\n",
      "[300]\tvalidation_0-rmse:214251.31087\tvalidation_1-rmse:243172.41949\n"
     ]
    },
    {
     "name": "stderr",
     "output_type": "stream",
     "text": [
      "c:\\Users\\Tommy\\anaconda3\\Lib\\site-packages\\xgboost\\core.py:160: UserWarning: [03:30:35] WARNING: C:\\buildkite-agent\\builds\\buildkite-windows-cpu-autoscaling-group-i-0cec3277c4d9d0165-1\\xgboost\\xgboost-ci-windows\\src\\objective\\regression_obj.cu:209: reg:linear is now deprecated in favor of reg:squarederror.\n",
      "  warnings.warn(smsg, UserWarning)\n"
     ]
    },
    {
     "name": "stdout",
     "output_type": "stream",
     "text": [
      "[400]\tvalidation_0-rmse:168344.32067\tvalidation_1-rmse:132327.57953\n",
      "[500]\tvalidation_0-rmse:145570.76987\tvalidation_1-rmse:73183.63783\n",
      "[600]\tvalidation_0-rmse:129918.31189\tvalidation_1-rmse:64982.57692\n",
      "[614]\tvalidation_0-rmse:128195.03042\tvalidation_1-rmse:67555.37181\n",
      "[0]\tvalidation_0-rmse:1764796.67694\tvalidation_1-rmse:2925794.40547\n",
      "[100]\tvalidation_0-rmse:697024.76886\tvalidation_1-rmse:1364886.91514\n",
      "[200]\tvalidation_0-rmse:331321.81371\tvalidation_1-rmse:678962.36314\n",
      "[300]\tvalidation_0-rmse:214049.44184\tvalidation_1-rmse:344775.70925\n",
      "[400]\tvalidation_0-rmse:168519.06602\tvalidation_1-rmse:224612.11990\n"
     ]
    },
    {
     "name": "stderr",
     "output_type": "stream",
     "text": [
      "c:\\Users\\Tommy\\anaconda3\\Lib\\site-packages\\xgboost\\core.py:160: UserWarning: [03:30:35] WARNING: C:\\buildkite-agent\\builds\\buildkite-windows-cpu-autoscaling-group-i-0cec3277c4d9d0165-1\\xgboost\\xgboost-ci-windows\\src\\objective\\regression_obj.cu:209: reg:linear is now deprecated in favor of reg:squarederror.\n",
      "  warnings.warn(smsg, UserWarning)\n"
     ]
    },
    {
     "name": "stdout",
     "output_type": "stream",
     "text": [
      "[500]\tvalidation_0-rmse:145761.71394\tvalidation_1-rmse:130262.26115\n",
      "[600]\tvalidation_0-rmse:130448.76574\tvalidation_1-rmse:67357.71155\n",
      "[700]\tvalidation_0-rmse:120550.13767\tvalidation_1-rmse:35493.38280\n",
      "[755]\tvalidation_0-rmse:115921.09477\tvalidation_1-rmse:40914.38719\n",
      "[0]\tvalidation_0-rmse:1767771.96906\tvalidation_1-rmse:3105092.09726\n",
      "[100]\tvalidation_0-rmse:698165.54292\tvalidation_1-rmse:1265338.78964\n",
      "[200]\tvalidation_0-rmse:331669.34456\tvalidation_1-rmse:582271.38736\n",
      "[300]\tvalidation_0-rmse:213845.42739\tvalidation_1-rmse:292886.13203\n",
      "[400]\tvalidation_0-rmse:168366.59743\tvalidation_1-rmse:169780.72950\n"
     ]
    },
    {
     "name": "stderr",
     "output_type": "stream",
     "text": [
      "c:\\Users\\Tommy\\anaconda3\\Lib\\site-packages\\xgboost\\core.py:160: UserWarning: [03:30:35] WARNING: C:\\buildkite-agent\\builds\\buildkite-windows-cpu-autoscaling-group-i-0cec3277c4d9d0165-1\\xgboost\\xgboost-ci-windows\\src\\objective\\regression_obj.cu:209: reg:linear is now deprecated in favor of reg:squarederror.\n",
      "  warnings.warn(smsg, UserWarning)\n"
     ]
    },
    {
     "name": "stdout",
     "output_type": "stream",
     "text": [
      "[500]\tvalidation_0-rmse:145899.98016\tvalidation_1-rmse:92580.82607\n",
      "[600]\tvalidation_0-rmse:130350.26398\tvalidation_1-rmse:36465.99526\n",
      "[700]\tvalidation_0-rmse:120296.46737\tvalidation_1-rmse:21783.44280\n",
      "[724]\tvalidation_0-rmse:118251.94821\tvalidation_1-rmse:27413.78558\n"
     ]
    }
   ],
   "source": [
    "tss = TimeSeriesSplit(n_splits=5, test_size=11, gap=11)\n",
    "df = data.sort_index()\n",
    "\n",
    "\n",
    "fold = 0\n",
    "preds = []\n",
    "scores = []\n",
    "for train_idx, val_idx in tss.split(df):\n",
    "    train = df.iloc[train_idx]\n",
    "    test = df.iloc[val_idx]\n",
    "\n",
    "    FEATURES = ['year', 'month', 'day', 'hour', 'min']\n",
    "    TARGET = 'Player_count'\n",
    "\n",
    "    X_train = train[FEATURES]\n",
    "    y_train = train[TARGET]\n",
    "\n",
    "    X_test = test[FEATURES]\n",
    "    y_test = test[TARGET]\n",
    "\n",
    "    reg = xgb.XGBRegressor(base_score=0.5, booster='gbtree',    \n",
    "                           n_estimators=1000,\n",
    "                           early_stopping_rounds=50,\n",
    "                           objective='reg:linear',\n",
    "                           max_depth=3,\n",
    "                           learning_rate=0.01)\n",
    "    reg.fit(X_train, y_train,\n",
    "            eval_set=[(X_train, y_train), (X_test, y_test)],\n",
    "            verbose=100)\n",
    "\n",
    "    y_pred = reg.predict(X_test)\n",
    "    preds.append(y_pred)\n",
    "    score = np.sqrt(mean_squared_error(y_test, y_pred))\n",
    "    scores.append(score)"
   ]
  },
  {
   "cell_type": "code",
   "execution_count": 33,
   "metadata": {},
   "outputs": [
    {
     "name": "stdout",
     "output_type": "stream",
     "text": [
      "Score across folds 51395.3164\n",
      "Fold scores:[108568.87661209588, 33429.3839504532, 61137.55498882306, 34721.963745294495, 19118.80253373269]\n"
     ]
    }
   ],
   "source": [
    "print(f'Score across folds {np.mean(scores):0.4f}')\n",
    "print(f'Fold scores:{scores}')"
   ]
  },
  {
   "cell_type": "markdown",
   "metadata": {},
   "source": [
    "Saving model to pkl file for later use\n"
   ]
  },
  {
   "cell_type": "code",
   "execution_count": 34,
   "metadata": {},
   "outputs": [],
   "source": [
    "reg.save_model(\"reg_model.json\")\n"
   ]
  }
 ],
 "metadata": {
  "kernelspec": {
   "display_name": "Python 3.11.4 64-bit",
   "language": "python",
   "name": "python3"
  },
  "language_info": {
   "codemirror_mode": {
    "name": "ipython",
    "version": 3
   },
   "file_extension": ".py",
   "mimetype": "text/x-python",
   "name": "python",
   "nbconvert_exporter": "python",
   "pygments_lexer": "ipython3",
   "version": "3.12.0"
  },
  "orig_nbformat": 4,
  "vscode": {
   "interpreter": {
    "hash": "aee8b7b246df8f9039afb4144a1f6fd8d2ca17a180786b69acc140d282b71a49"
   }
  }
 },
 "nbformat": 4,
 "nbformat_minor": 2
}
