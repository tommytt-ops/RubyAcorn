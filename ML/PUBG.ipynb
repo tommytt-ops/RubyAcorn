{
 "cells": [
  {
   "cell_type": "markdown",
   "metadata": {},
   "source": [
    "## NB very simple model for testing"
   ]
  },
  {
   "cell_type": "code",
   "execution_count": 1,
   "metadata": {},
   "outputs": [
    {
     "name": "stdout",
     "output_type": "stream",
     "text": [
      "Active code page: 1252\n",
      "Requirement already satisfied: xgboost in c:\\users\\tommy\\desktop\\4410-ruby-acorn\\.venv\\lib\\site-packages (2.0.0)\n",
      "Requirement already satisfied: numpy in c:\\users\\tommy\\desktop\\4410-ruby-acorn\\.venv\\lib\\site-packages (from xgboost) (1.26.0)\n",
      "Requirement already satisfied: scipy in c:\\users\\tommy\\desktop\\4410-ruby-acorn\\.venv\\lib\\site-packages (from xgboost) (1.11.3)\n",
      "Note: you may need to restart the kernel to use updated packages.\n",
      "Active code page: 1252\n",
      "Requirement already satisfied: pandas in c:\\users\\tommy\\desktop\\4410-ruby-acorn\\.venv\\lib\\site-packages (2.0.3)\n",
      "Requirement already satisfied: python-dateutil>=2.8.2 in c:\\users\\tommy\\desktop\\4410-ruby-acorn\\.venv\\lib\\site-packages (from pandas) (2.8.2)\n",
      "Requirement already satisfied: pytz>=2020.1 in c:\\users\\tommy\\desktop\\4410-ruby-acorn\\.venv\\lib\\site-packages (from pandas) (2023.3.post1)\n",
      "Requirement already satisfied: tzdata>=2022.1 in c:\\users\\tommy\\desktop\\4410-ruby-acorn\\.venv\\lib\\site-packages (from pandas) (2023.3)\n",
      "Requirement already satisfied: numpy>=1.21.0 in c:\\users\\tommy\\desktop\\4410-ruby-acorn\\.venv\\lib\\site-packages (from pandas) (1.26.0)\n",
      "Requirement already satisfied: six>=1.5 in c:\\users\\tommy\\desktop\\4410-ruby-acorn\\.venv\\lib\\site-packages (from python-dateutil>=2.8.2->pandas) (1.16.0)\n",
      "Note: you may need to restart the kernel to use updated packages.\n",
      "Active code page: 1252\n",
      "Requirement already satisfied: matplotlib in c:\\users\\tommy\\desktop\\4410-ruby-acorn\\.venv\\lib\\site-packages (3.8.0)\n",
      "Requirement already satisfied: contourpy>=1.0.1 in c:\\users\\tommy\\desktop\\4410-ruby-acorn\\.venv\\lib\\site-packages (from matplotlib) (1.1.1)\n",
      "Requirement already satisfied: cycler>=0.10 in c:\\users\\tommy\\desktop\\4410-ruby-acorn\\.venv\\lib\\site-packages (from matplotlib) (0.12.0)\n",
      "Requirement already satisfied: fonttools>=4.22.0 in c:\\users\\tommy\\desktop\\4410-ruby-acorn\\.venv\\lib\\site-packages (from matplotlib) (4.43.1)\n",
      "Requirement already satisfied: kiwisolver>=1.0.1 in c:\\users\\tommy\\desktop\\4410-ruby-acorn\\.venv\\lib\\site-packages (from matplotlib) (1.4.5)\n",
      "Requirement already satisfied: numpy<2,>=1.21 in c:\\users\\tommy\\desktop\\4410-ruby-acorn\\.venv\\lib\\site-packages (from matplotlib) (1.26.0)\n",
      "Requirement already satisfied: packaging>=20.0 in c:\\users\\tommy\\desktop\\4410-ruby-acorn\\.venv\\lib\\site-packages (from matplotlib) (23.2)\n",
      "Requirement already satisfied: pillow>=6.2.0 in c:\\users\\tommy\\desktop\\4410-ruby-acorn\\.venv\\lib\\site-packages (from matplotlib) (10.0.1)\n",
      "Requirement already satisfied: pyparsing>=2.3.1 in c:\\users\\tommy\\desktop\\4410-ruby-acorn\\.venv\\lib\\site-packages (from matplotlib) (3.1.1)\n",
      "Requirement already satisfied: python-dateutil>=2.7 in c:\\users\\tommy\\desktop\\4410-ruby-acorn\\.venv\\lib\\site-packages (from matplotlib) (2.8.2)\n",
      "Requirement already satisfied: six>=1.5 in c:\\users\\tommy\\desktop\\4410-ruby-acorn\\.venv\\lib\\site-packages (from python-dateutil>=2.7->matplotlib) (1.16.0)\n",
      "Note: you may need to restart the kernel to use updated packages.\n",
      "Active code page: 1252\n",
      "Requirement already satisfied: scikit-learn in c:\\users\\tommy\\desktop\\4410-ruby-acorn\\.venv\\lib\\site-packages (1.3.1)\n",
      "Requirement already satisfied: numpy<2.0,>=1.17.3 in c:\\users\\tommy\\desktop\\4410-ruby-acorn\\.venv\\lib\\site-packages (from scikit-learn) (1.26.0)\n",
      "Requirement already satisfied: scipy>=1.5.0 in c:\\users\\tommy\\desktop\\4410-ruby-acorn\\.venv\\lib\\site-packages (from scikit-learn) (1.11.3)\n",
      "Requirement already satisfied: joblib>=1.1.1 in c:\\users\\tommy\\desktop\\4410-ruby-acorn\\.venv\\lib\\site-packages (from scikit-learn) (1.3.2)\n",
      "Requirement already satisfied: threadpoolctl>=2.0.0 in c:\\users\\tommy\\desktop\\4410-ruby-acorn\\.venv\\lib\\site-packages (from scikit-learn) (3.2.0)\n",
      "Note: you may need to restart the kernel to use updated packages.\n",
      "Active code page: 1252\n",
      "Requirement already satisfied: seaborn in c:\\users\\tommy\\desktop\\4410-ruby-acorn\\.venv\\lib\\site-packages (0.13.0)\n",
      "Requirement already satisfied: numpy!=1.24.0,>=1.20 in c:\\users\\tommy\\desktop\\4410-ruby-acorn\\.venv\\lib\\site-packages (from seaborn) (1.26.0)\n",
      "Requirement already satisfied: pandas>=1.2 in c:\\users\\tommy\\desktop\\4410-ruby-acorn\\.venv\\lib\\site-packages (from seaborn) (2.0.3)\n",
      "Requirement already satisfied: matplotlib!=3.6.1,>=3.3 in c:\\users\\tommy\\desktop\\4410-ruby-acorn\\.venv\\lib\\site-packages (from seaborn) (3.8.0)\n",
      "Requirement already satisfied: contourpy>=1.0.1 in c:\\users\\tommy\\desktop\\4410-ruby-acorn\\.venv\\lib\\site-packages (from matplotlib!=3.6.1,>=3.3->seaborn) (1.1.1)\n",
      "Requirement already satisfied: cycler>=0.10 in c:\\users\\tommy\\desktop\\4410-ruby-acorn\\.venv\\lib\\site-packages (from matplotlib!=3.6.1,>=3.3->seaborn) (0.12.0)\n",
      "Requirement already satisfied: fonttools>=4.22.0 in c:\\users\\tommy\\desktop\\4410-ruby-acorn\\.venv\\lib\\site-packages (from matplotlib!=3.6.1,>=3.3->seaborn) (4.43.1)\n",
      "Requirement already satisfied: kiwisolver>=1.0.1 in c:\\users\\tommy\\desktop\\4410-ruby-acorn\\.venv\\lib\\site-packages (from matplotlib!=3.6.1,>=3.3->seaborn) (1.4.5)\n",
      "Requirement already satisfied: packaging>=20.0 in c:\\users\\tommy\\desktop\\4410-ruby-acorn\\.venv\\lib\\site-packages (from matplotlib!=3.6.1,>=3.3->seaborn) (23.2)\n",
      "Requirement already satisfied: pillow>=6.2.0 in c:\\users\\tommy\\desktop\\4410-ruby-acorn\\.venv\\lib\\site-packages (from matplotlib!=3.6.1,>=3.3->seaborn) (10.0.1)\n",
      "Requirement already satisfied: pyparsing>=2.3.1 in c:\\users\\tommy\\desktop\\4410-ruby-acorn\\.venv\\lib\\site-packages (from matplotlib!=3.6.1,>=3.3->seaborn) (3.1.1)\n",
      "Requirement already satisfied: python-dateutil>=2.7 in c:\\users\\tommy\\desktop\\4410-ruby-acorn\\.venv\\lib\\site-packages (from matplotlib!=3.6.1,>=3.3->seaborn) (2.8.2)\n",
      "Requirement already satisfied: pytz>=2020.1 in c:\\users\\tommy\\desktop\\4410-ruby-acorn\\.venv\\lib\\site-packages (from pandas>=1.2->seaborn) (2023.3.post1)\n",
      "Requirement already satisfied: tzdata>=2022.1 in c:\\users\\tommy\\desktop\\4410-ruby-acorn\\.venv\\lib\\site-packages (from pandas>=1.2->seaborn) (2023.3)\n",
      "Requirement already satisfied: six>=1.5 in c:\\users\\tommy\\desktop\\4410-ruby-acorn\\.venv\\lib\\site-packages (from python-dateutil>=2.7->matplotlib!=3.6.1,>=3.3->seaborn) (1.16.0)\n",
      "Note: you may need to restart the kernel to use updated packages.\n"
     ]
    }
   ],
   "source": [
    "%pip install xgboost\n",
    "%pip install pandas\n",
    "%pip install matplotlib\n",
    "%pip install scikit-learn\n",
    "%pip install seaborn"
   ]
  },
  {
   "cell_type": "code",
   "execution_count": 2,
   "metadata": {},
   "outputs": [],
   "source": [
    "%matplotlib inline\n",
    "import numpy as np, pandas as pd, seaborn as sns, matplotlib.pyplot as plt\n",
    "from sklearn.model_selection import TimeSeriesSplit\n",
    "import joblib\n",
    "from pathlib import Path\n",
    "from sklearn.model_selection import train_test_split\n",
    "from sklearn.ensemble import RandomForestRegressor\n",
    "from sklearn.linear_model import LinearRegression\n",
    "import xgboost as xgb\n",
    "from sklearn.preprocessing import OneHotEncoder\n",
    "from sklearn.metrics import mean_squared_error\n"
   ]
  },
  {
   "cell_type": "code",
   "execution_count": 3,
   "metadata": {},
   "outputs": [],
   "source": [
    "data = pd.read_csv('final.csv')"
   ]
  },
  {
   "cell_type": "code",
   "execution_count": 4,
   "metadata": {},
   "outputs": [
    {
     "data": {
      "text/html": [
       "<div>\n",
       "<style scoped>\n",
       "    .dataframe tbody tr th:only-of-type {\n",
       "        vertical-align: middle;\n",
       "    }\n",
       "\n",
       "    .dataframe tbody tr th {\n",
       "        vertical-align: top;\n",
       "    }\n",
       "\n",
       "    .dataframe thead th {\n",
       "        text-align: right;\n",
       "    }\n",
       "</style>\n",
       "<table border=\"1\" class=\"dataframe\">\n",
       "  <thead>\n",
       "    <tr style=\"text-align: right;\">\n",
       "      <th></th>\n",
       "      <th>Date</th>\n",
       "      <th>Time</th>\n",
       "      <th>Player_count</th>\n",
       "    </tr>\n",
       "  </thead>\n",
       "  <tbody>\n",
       "    <tr>\n",
       "      <th>0</th>\n",
       "      <td>9/24/2023</td>\n",
       "      <td>0:00</td>\n",
       "      <td>2711248</td>\n",
       "    </tr>\n",
       "    <tr>\n",
       "      <th>1</th>\n",
       "      <td>9/24/2023</td>\n",
       "      <td>0:05</td>\n",
       "      <td>2726267</td>\n",
       "    </tr>\n",
       "    <tr>\n",
       "      <th>2</th>\n",
       "      <td>9/24/2023</td>\n",
       "      <td>0:10</td>\n",
       "      <td>2712687</td>\n",
       "    </tr>\n",
       "    <tr>\n",
       "      <th>3</th>\n",
       "      <td>9/24/2023</td>\n",
       "      <td>0:15</td>\n",
       "      <td>2745816</td>\n",
       "    </tr>\n",
       "    <tr>\n",
       "      <th>4</th>\n",
       "      <td>9/24/2023</td>\n",
       "      <td>0:20</td>\n",
       "      <td>2756843</td>\n",
       "    </tr>\n",
       "    <tr>\n",
       "      <th>5</th>\n",
       "      <td>9/24/2023</td>\n",
       "      <td>0:25</td>\n",
       "      <td>2768107</td>\n",
       "    </tr>\n",
       "    <tr>\n",
       "      <th>6</th>\n",
       "      <td>9/24/2023</td>\n",
       "      <td>0:30</td>\n",
       "      <td>2777797</td>\n",
       "    </tr>\n",
       "    <tr>\n",
       "      <th>7</th>\n",
       "      <td>9/24/2023</td>\n",
       "      <td>0:35</td>\n",
       "      <td>2786147</td>\n",
       "    </tr>\n",
       "  </tbody>\n",
       "</table>\n",
       "</div>"
      ],
      "text/plain": [
       "        Date  Time  Player_count\n",
       "0  9/24/2023  0:00       2711248\n",
       "1  9/24/2023  0:05       2726267\n",
       "2  9/24/2023  0:10       2712687\n",
       "3  9/24/2023  0:15       2745816\n",
       "4  9/24/2023  0:20       2756843\n",
       "5  9/24/2023  0:25       2768107\n",
       "6  9/24/2023  0:30       2777797\n",
       "7  9/24/2023  0:35       2786147"
      ]
     },
     "execution_count": 4,
     "metadata": {},
     "output_type": "execute_result"
    }
   ],
   "source": [
    "data.head(8)"
   ]
  },
  {
   "cell_type": "code",
   "execution_count": 5,
   "metadata": {},
   "outputs": [
    {
     "name": "stdout",
     "output_type": "stream",
     "text": [
      "<class 'pandas.core.frame.DataFrame'>\n",
      "RangeIndex: 5726 entries, 0 to 5725\n",
      "Data columns (total 3 columns):\n",
      " #   Column        Non-Null Count  Dtype \n",
      "---  ------        --------------  ----- \n",
      " 0   Date          5726 non-null   object\n",
      " 1   Time          5726 non-null   object\n",
      " 2   Player_count  5726 non-null   int64 \n",
      "dtypes: int64(1), object(2)\n",
      "memory usage: 134.3+ KB\n"
     ]
    }
   ],
   "source": [
    "data.info()"
   ]
  },
  {
   "cell_type": "code",
   "execution_count": 6,
   "metadata": {},
   "outputs": [],
   "source": [
    "data = data.drop(data[(data[\"Player_count\"]== 0)].index)"
   ]
  },
  {
   "cell_type": "code",
   "execution_count": 7,
   "metadata": {},
   "outputs": [],
   "source": [
    "data[\"New_date\"] = pd.to_datetime(data['Date'], format='%m/%d/%Y')"
   ]
  },
  {
   "cell_type": "code",
   "execution_count": 8,
   "metadata": {},
   "outputs": [
    {
     "name": "stdout",
     "output_type": "stream",
     "text": [
      "<class 'pandas.core.frame.DataFrame'>\n",
      "Index: 5544 entries, 0 to 5725\n",
      "Data columns (total 4 columns):\n",
      " #   Column        Non-Null Count  Dtype         \n",
      "---  ------        --------------  -----         \n",
      " 0   Date          5544 non-null   object        \n",
      " 1   Time          5544 non-null   object        \n",
      " 2   Player_count  5544 non-null   int64         \n",
      " 3   New_date      5544 non-null   datetime64[ns]\n",
      "dtypes: datetime64[ns](1), int64(1), object(2)\n",
      "memory usage: 216.6+ KB\n"
     ]
    }
   ],
   "source": [
    "data.info()"
   ]
  },
  {
   "cell_type": "code",
   "execution_count": 9,
   "metadata": {},
   "outputs": [
    {
     "name": "stdout",
     "output_type": "stream",
     "text": [
      "<class 'pandas.core.frame.DataFrame'>\n",
      "Index: 5544 entries, 0 to 5725\n",
      "Data columns (total 4 columns):\n",
      " #   Column        Non-Null Count  Dtype         \n",
      "---  ------        --------------  -----         \n",
      " 0   Date          5544 non-null   object        \n",
      " 1   Time          5544 non-null   object        \n",
      " 2   Player_count  5544 non-null   int64         \n",
      " 3   New_date      5544 non-null   datetime64[ns]\n",
      "dtypes: datetime64[ns](1), int64(1), object(2)\n",
      "memory usage: 216.6+ KB\n"
     ]
    }
   ],
   "source": [
    "data.info()"
   ]
  },
  {
   "cell_type": "markdown",
   "metadata": {},
   "source": [
    "### Feature engineering (transform data to be used for the machine learning algo) "
   ]
  },
  {
   "cell_type": "code",
   "execution_count": 10,
   "metadata": {},
   "outputs": [],
   "source": [
    "\n",
    "data[\"New_time\"] = pd.to_datetime(data['Time'], format='%H:%M')"
   ]
  },
  {
   "cell_type": "code",
   "execution_count": 11,
   "metadata": {},
   "outputs": [],
   "source": [
    "data[\"year\"] = data[\"New_date\"].dt.year\n",
    "data[\"month\"] = data[\"New_date\"].dt.month\n",
    "data[\"day\"] = data[\"New_date\"].dt.day\n",
    "data[\"hour\"] = data[\"New_time\"].dt.hour\n",
    "data[\"min\"] = data[\"New_time\"].dt.minute"
   ]
  },
  {
   "cell_type": "code",
   "execution_count": 12,
   "metadata": {},
   "outputs": [],
   "source": [
    "data.drop(columns=[\"Date\",\"Time\",\"New_date\",\"New_time\"], inplace=True)"
   ]
  },
  {
   "cell_type": "code",
   "execution_count": 13,
   "metadata": {},
   "outputs": [
    {
     "name": "stdout",
     "output_type": "stream",
     "text": [
      "<class 'pandas.core.frame.DataFrame'>\n",
      "Index: 5544 entries, 0 to 5725\n",
      "Data columns (total 6 columns):\n",
      " #   Column        Non-Null Count  Dtype\n",
      "---  ------        --------------  -----\n",
      " 0   Player_count  5544 non-null   int64\n",
      " 1   year          5544 non-null   int32\n",
      " 2   month         5544 non-null   int32\n",
      " 3   day           5544 non-null   int32\n",
      " 4   hour          5544 non-null   int32\n",
      " 5   min           5544 non-null   int32\n",
      "dtypes: int32(5), int64(1)\n",
      "memory usage: 194.9 KB\n"
     ]
    }
   ],
   "source": [
    "data.info()"
   ]
  },
  {
   "cell_type": "code",
   "execution_count": 14,
   "metadata": {},
   "outputs": [
    {
     "data": {
      "text/html": [
       "<div>\n",
       "<style scoped>\n",
       "    .dataframe tbody tr th:only-of-type {\n",
       "        vertical-align: middle;\n",
       "    }\n",
       "\n",
       "    .dataframe tbody tr th {\n",
       "        vertical-align: top;\n",
       "    }\n",
       "\n",
       "    .dataframe thead th {\n",
       "        text-align: right;\n",
       "    }\n",
       "</style>\n",
       "<table border=\"1\" class=\"dataframe\">\n",
       "  <thead>\n",
       "    <tr style=\"text-align: right;\">\n",
       "      <th></th>\n",
       "      <th>Player_count</th>\n",
       "      <th>year</th>\n",
       "      <th>month</th>\n",
       "      <th>day</th>\n",
       "      <th>hour</th>\n",
       "      <th>min</th>\n",
       "    </tr>\n",
       "  </thead>\n",
       "  <tbody>\n",
       "    <tr>\n",
       "      <th>0</th>\n",
       "      <td>2711248</td>\n",
       "      <td>2023</td>\n",
       "      <td>9</td>\n",
       "      <td>24</td>\n",
       "      <td>0</td>\n",
       "      <td>0</td>\n",
       "    </tr>\n",
       "    <tr>\n",
       "      <th>1</th>\n",
       "      <td>2726267</td>\n",
       "      <td>2023</td>\n",
       "      <td>9</td>\n",
       "      <td>24</td>\n",
       "      <td>0</td>\n",
       "      <td>5</td>\n",
       "    </tr>\n",
       "    <tr>\n",
       "      <th>2</th>\n",
       "      <td>2712687</td>\n",
       "      <td>2023</td>\n",
       "      <td>9</td>\n",
       "      <td>24</td>\n",
       "      <td>0</td>\n",
       "      <td>10</td>\n",
       "    </tr>\n",
       "    <tr>\n",
       "      <th>3</th>\n",
       "      <td>2745816</td>\n",
       "      <td>2023</td>\n",
       "      <td>9</td>\n",
       "      <td>24</td>\n",
       "      <td>0</td>\n",
       "      <td>15</td>\n",
       "    </tr>\n",
       "    <tr>\n",
       "      <th>4</th>\n",
       "      <td>2756843</td>\n",
       "      <td>2023</td>\n",
       "      <td>9</td>\n",
       "      <td>24</td>\n",
       "      <td>0</td>\n",
       "      <td>20</td>\n",
       "    </tr>\n",
       "  </tbody>\n",
       "</table>\n",
       "</div>"
      ],
      "text/plain": [
       "   Player_count  year  month  day  hour  min\n",
       "0       2711248  2023      9   24     0    0\n",
       "1       2726267  2023      9   24     0    5\n",
       "2       2712687  2023      9   24     0   10\n",
       "3       2745816  2023      9   24     0   15\n",
       "4       2756843  2023      9   24     0   20"
      ]
     },
     "execution_count": 14,
     "metadata": {},
     "output_type": "execute_result"
    }
   ],
   "source": [
    "data.head()"
   ]
  },
  {
   "cell_type": "markdown",
   "metadata": {},
   "source": [
    "### Preapering for training "
   ]
  },
  {
   "cell_type": "markdown",
   "metadata": {},
   "source": [
    "### Models and testing"
   ]
  },
  {
   "cell_type": "markdown",
   "metadata": {},
   "source": [
    "#### xgboost"
   ]
  },
  {
   "cell_type": "code",
   "execution_count": 15,
   "metadata": {},
   "outputs": [
    {
     "name": "stdout",
     "output_type": "stream",
     "text": [
      "[0]\tvalidation_0-rmse:1763742.11169\tvalidation_1-rmse:2696915.29324\n",
      "[100]\tvalidation_0-rmse:689745.14224\tvalidation_1-rmse:1374556.57847\n",
      "[200]\tvalidation_0-rmse:323037.53513\tvalidation_1-rmse:872403.38597\n"
     ]
    },
    {
     "name": "stderr",
     "output_type": "stream",
     "text": [
      "c:\\Users\\Tommy\\Desktop\\4410-ruby-acorn\\.venv\\Lib\\site-packages\\xgboost\\core.py:160: UserWarning: [22:04:06] WARNING: C:\\buildkite-agent\\builds\\buildkite-windows-cpu-autoscaling-group-i-0cec3277c4d9d0165-1\\xgboost\\xgboost-ci-windows\\src\\objective\\regression_obj.cu:209: reg:linear is now deprecated in favor of reg:squarederror.\n",
      "  warnings.warn(smsg, UserWarning)\n"
     ]
    },
    {
     "name": "stdout",
     "output_type": "stream",
     "text": [
      "[300]\tvalidation_0-rmse:209299.90748\tvalidation_1-rmse:710988.80549\n",
      "[400]\tvalidation_0-rmse:168957.68920\tvalidation_1-rmse:642595.49688\n",
      "[500]\tvalidation_0-rmse:148201.63892\tvalidation_1-rmse:613874.76944\n",
      "[600]\tvalidation_0-rmse:134682.89399\tvalidation_1-rmse:593835.24160\n",
      "[700]\tvalidation_0-rmse:124218.90459\tvalidation_1-rmse:566047.49520\n"
     ]
    },
    {
     "name": "stdout",
     "output_type": "stream",
     "text": [
      "[800]\tvalidation_0-rmse:114566.71922\tvalidation_1-rmse:508401.83373\n",
      "[900]\tvalidation_0-rmse:106859.36951\tvalidation_1-rmse:433341.02731\n",
      "[999]\tvalidation_0-rmse:102373.34472\tvalidation_1-rmse:400768.84643\n",
      "[0]\tvalidation_0-rmse:1766030.42642\tvalidation_1-rmse:2457419.81400\n",
      "[100]\tvalidation_0-rmse:691042.94750\tvalidation_1-rmse:1131873.51911\n",
      "[200]\tvalidation_0-rmse:324253.22010\tvalidation_1-rmse:633071.61101\n",
      "[300]\tvalidation_0-rmse:210969.03665\tvalidation_1-rmse:472118.72607\n"
     ]
    },
    {
     "name": "stderr",
     "output_type": "stream",
     "text": [
      "c:\\Users\\Tommy\\Desktop\\4410-ruby-acorn\\.venv\\Lib\\site-packages\\xgboost\\core.py:160: UserWarning: [22:04:07] WARNING: C:\\buildkite-agent\\builds\\buildkite-windows-cpu-autoscaling-group-i-0cec3277c4d9d0165-1\\xgboost\\xgboost-ci-windows\\src\\objective\\regression_obj.cu:209: reg:linear is now deprecated in favor of reg:squarederror.\n",
      "  warnings.warn(smsg, UserWarning)\n"
     ]
    },
    {
     "name": "stdout",
     "output_type": "stream",
     "text": [
      "[400]\tvalidation_0-rmse:170978.19068\tvalidation_1-rmse:403439.12794\n",
      "[500]\tvalidation_0-rmse:150273.22303\tvalidation_1-rmse:374278.89162\n",
      "[600]\tvalidation_0-rmse:136511.94387\tvalidation_1-rmse:349682.08784\n",
      "[700]\tvalidation_0-rmse:125901.48992\tvalidation_1-rmse:323134.26140\n",
      "[800]\tvalidation_0-rmse:115780.26309\tvalidation_1-rmse:260504.95516\n",
      "[900]\tvalidation_0-rmse:108205.58510\tvalidation_1-rmse:165233.45257\n",
      "[999]\tvalidation_0-rmse:103355.05247\tvalidation_1-rmse:127712.31522\n",
      "[0]\tvalidation_0-rmse:1768366.22217\tvalidation_1-rmse:2265507.11230\n",
      "[100]\tvalidation_0-rmse:692089.21826\tvalidation_1-rmse:916984.26188\n",
      "[200]\tvalidation_0-rmse:325447.24196\tvalidation_1-rmse:413083.19870\n",
      "[300]\tvalidation_0-rmse:212508.56022\tvalidation_1-rmse:246984.10220\n"
     ]
    },
    {
     "name": "stderr",
     "output_type": "stream",
     "text": [
      "c:\\Users\\Tommy\\Desktop\\4410-ruby-acorn\\.venv\\Lib\\site-packages\\xgboost\\core.py:160: UserWarning: [22:04:07] WARNING: C:\\buildkite-agent\\builds\\buildkite-windows-cpu-autoscaling-group-i-0cec3277c4d9d0165-1\\xgboost\\xgboost-ci-windows\\src\\objective\\regression_obj.cu:209: reg:linear is now deprecated in favor of reg:squarederror.\n",
      "  warnings.warn(smsg, UserWarning)\n"
     ]
    },
    {
     "name": "stdout",
     "output_type": "stream",
     "text": [
      "[400]\tvalidation_0-rmse:172922.71067\tvalidation_1-rmse:176611.21636\n",
      "[500]\tvalidation_0-rmse:152606.99643\tvalidation_1-rmse:146546.24310\n",
      "[600]\tvalidation_0-rmse:138352.82090\tvalidation_1-rmse:112946.01036\n",
      "[700]\tvalidation_0-rmse:127704.13838\tvalidation_1-rmse:86290.43140\n",
      "[800]\tvalidation_0-rmse:116788.47958\tvalidation_1-rmse:34877.66239\n",
      "[836]\tvalidation_0-rmse:113833.21611\tvalidation_1-rmse:62996.43986\n",
      "[0]\tvalidation_0-rmse:1769999.48714\tvalidation_1-rmse:2499945.28751\n",
      "[100]\tvalidation_0-rmse:692875.72661\tvalidation_1-rmse:1077008.89431\n",
      "[200]\tvalidation_0-rmse:325930.01510\tvalidation_1-rmse:557373.55655\n",
      "[300]\tvalidation_0-rmse:213027.93033\tvalidation_1-rmse:359434.47019\n"
     ]
    },
    {
     "name": "stderr",
     "output_type": "stream",
     "text": [
      "c:\\Users\\Tommy\\Desktop\\4410-ruby-acorn\\.venv\\Lib\\site-packages\\xgboost\\core.py:160: UserWarning: [22:04:08] WARNING: C:\\buildkite-agent\\builds\\buildkite-windows-cpu-autoscaling-group-i-0cec3277c4d9d0165-1\\xgboost\\xgboost-ci-windows\\src\\objective\\regression_obj.cu:209: reg:linear is now deprecated in favor of reg:squarederror.\n",
      "  warnings.warn(smsg, UserWarning)\n"
     ]
    },
    {
     "name": "stdout",
     "output_type": "stream",
     "text": [
      "[400]\tvalidation_0-rmse:173481.22531\tvalidation_1-rmse:262611.06403\n",
      "[500]\tvalidation_0-rmse:152798.40326\tvalidation_1-rmse:222437.56345\n",
      "[600]\tvalidation_0-rmse:138217.80537\tvalidation_1-rmse:174538.72954\n",
      "[700]\tvalidation_0-rmse:127515.87192\tvalidation_1-rmse:137743.47235\n",
      "[800]\tvalidation_0-rmse:117639.96063\tvalidation_1-rmse:70915.13549\n",
      "[898]\tvalidation_0-rmse:109674.79725\tvalidation_1-rmse:70030.71295\n",
      "[0]\tvalidation_0-rmse:1771119.59691\tvalidation_1-rmse:2863256.91671\n",
      "[100]\tvalidation_0-rmse:693092.42676\tvalidation_1-rmse:1272365.87969\n",
      "[200]\tvalidation_0-rmse:325920.49182\tvalidation_1-rmse:628192.34180\n",
      "[300]\tvalidation_0-rmse:213207.66699\tvalidation_1-rmse:405486.85822\n"
     ]
    },
    {
     "name": "stderr",
     "output_type": "stream",
     "text": [
      "c:\\Users\\Tommy\\Desktop\\4410-ruby-acorn\\.venv\\Lib\\site-packages\\xgboost\\core.py:160: UserWarning: [22:04:08] WARNING: C:\\buildkite-agent\\builds\\buildkite-windows-cpu-autoscaling-group-i-0cec3277c4d9d0165-1\\xgboost\\xgboost-ci-windows\\src\\objective\\regression_obj.cu:209: reg:linear is now deprecated in favor of reg:squarederror.\n",
      "  warnings.warn(smsg, UserWarning)\n"
     ]
    },
    {
     "name": "stdout",
     "output_type": "stream",
     "text": [
      "[400]\tvalidation_0-rmse:173569.21475\tvalidation_1-rmse:303938.64812\n",
      "[500]\tvalidation_0-rmse:152660.50748\tvalidation_1-rmse:248094.54207\n",
      "[600]\tvalidation_0-rmse:138189.25776\tvalidation_1-rmse:187113.95045\n",
      "[700]\tvalidation_0-rmse:127726.56180\tvalidation_1-rmse:138774.66303\n",
      "[800]\tvalidation_0-rmse:119334.38713\tvalidation_1-rmse:79677.12386\n",
      "[900]\tvalidation_0-rmse:110919.05665\tvalidation_1-rmse:32226.00823\n",
      "[919]\tvalidation_0-rmse:109573.66355\tvalidation_1-rmse:45481.03515\n"
     ]
    }
   ],
   "source": [
    "tss = TimeSeriesSplit(n_splits=5, test_size=11, gap=11)\n",
    "df = data.sort_index()\n",
    "\n",
    "\n",
    "fold = 0\n",
    "preds = []\n",
    "scores = []\n",
    "for train_idx, val_idx in tss.split(df):\n",
    "    train = df.iloc[train_idx]\n",
    "    test = df.iloc[val_idx]\n",
    "\n",
    "    FEATURES = ['year', 'month', 'day', 'hour', 'min']\n",
    "    TARGET = 'Player_count'\n",
    "\n",
    "    X_train = train[FEATURES].values\n",
    "    y_train = train[TARGET]\n",
    "\n",
    "    X_test = test[FEATURES].values\n",
    "    y_test = test[TARGET]\n",
    "\n",
    "    reg = xgb.XGBRegressor(base_score=0.5, booster='gbtree',    \n",
    "                           n_estimators=1000,\n",
    "                           early_stopping_rounds=50,\n",
    "                           objective='reg:linear',\n",
    "                           max_depth=3,\n",
    "                           learning_rate=0.01)\n",
    "    reg.fit(X_train, y_train,\n",
    "            eval_set=[(X_train, y_train), (X_test, y_test)],\n",
    "            verbose=100)\n",
    "\n",
    "    y_pred = reg.predict(X_test)\n",
    "    preds.append(y_pred)\n",
    "    score = np.sqrt(mean_squared_error(y_test, y_pred))\n",
    "    scores.append(score)"
   ]
  },
  {
   "cell_type": "code",
   "execution_count": 16,
   "metadata": {},
   "outputs": [
    {
     "name": "stdout",
     "output_type": "stream",
     "text": [
      "Score across folds 124054.1949\n",
      "Fold scores:[400768.84630407306, 127712.31514541242, 28162.610530590508, 50537.6947145643, 13089.50772565569]\n"
     ]
    }
   ],
   "source": [
    "print(f'Score across folds {np.mean(scores):0.4f}')\n",
    "print(f'Fold scores:{scores}')"
   ]
  },
  {
   "cell_type": "markdown",
   "metadata": {},
   "source": [
    "Saving model to pkl file for later use\n"
   ]
  },
  {
   "cell_type": "code",
   "execution_count": 17,
   "metadata": {},
   "outputs": [],
   "source": [
    "reg.save_model(\"reg_model.json\")\n"
   ]
  }
 ],
 "metadata": {
  "kernelspec": {
   "display_name": "Python 3.11.4 64-bit",
   "language": "python",
   "name": "python3"
  },
  "language_info": {
   "codemirror_mode": {
    "name": "ipython",
    "version": 3
   },
   "file_extension": ".py",
   "mimetype": "text/x-python",
   "name": "python",
   "nbconvert_exporter": "python",
   "pygments_lexer": "ipython3",
   "version": "3.12.0"
  },
  "orig_nbformat": 4,
  "vscode": {
   "interpreter": {
    "hash": "aee8b7b246df8f9039afb4144a1f6fd8d2ca17a180786b69acc140d282b71a49"
   }
  }
 },
 "nbformat": 4,
 "nbformat_minor": 2
}
